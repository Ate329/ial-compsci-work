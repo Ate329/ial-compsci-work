{
 "cells": [
  {
   "cell_type": "markdown",
   "metadata": {},
   "source": [
    "# Bubble sort"
   ]
  },
  {
   "cell_type": "code",
   "execution_count": 9,
   "metadata": {},
   "outputs": [
    {
     "name": "stdout",
     "output_type": "stream",
     "text": [
      "[73, 68, 49, 48, 90, 5, 23, 80, 26, 3]\n",
      "0 + 0\n",
      "1 + 0\n",
      "2 + 0\n",
      "3 + 0\n",
      "4 + 1\n",
      "5 + 1\n",
      "6 + 1\n",
      "7 + 1\n",
      "8 + 1\n"
     ]
    },
    {
     "ename": "KeyboardInterrupt",
     "evalue": "",
     "output_type": "error",
     "traceback": [
      "\u001b[0;31m---------------------------------------------------------------------------\u001b[0m",
      "\u001b[0;31mKeyboardInterrupt\u001b[0m                         Traceback (most recent call last)",
      "\u001b[1;32m/home/zliu/devel/ial-compsci-work/ipynb/bubble_sort.ipynb Cell 2\u001b[0m line \u001b[0;36m1\n\u001b[1;32m     <a href='vscode-notebook-cell:/home/zliu/devel/ial-compsci-work/ipynb/bubble_sort.ipynb#W0sZmlsZQ%3D%3D?line=9'>10</a>\u001b[0m index \u001b[39m=\u001b[39m \u001b[39m0\u001b[39m\n\u001b[1;32m     <a href='vscode-notebook-cell:/home/zliu/devel/ial-compsci-work/ipynb/bubble_sort.ipynb#W0sZmlsZQ%3D%3D?line=10'>11</a>\u001b[0m count \u001b[39m=\u001b[39m \u001b[39m0\u001b[39m\n\u001b[0;32m---> <a href='vscode-notebook-cell:/home/zliu/devel/ial-compsci-work/ipynb/bubble_sort.ipynb#W0sZmlsZQ%3D%3D?line=11'>12</a>\u001b[0m \u001b[39mwhile\u001b[39;00m count \u001b[39m<\u001b[39m \u001b[39mlen\u001b[39;49m(arr):\n\u001b[1;32m     <a href='vscode-notebook-cell:/home/zliu/devel/ial-compsci-work/ipynb/bubble_sort.ipynb#W0sZmlsZQ%3D%3D?line=12'>13</a>\u001b[0m     count \u001b[39m=\u001b[39m \u001b[39m0\u001b[39m\n\u001b[1;32m     <a href='vscode-notebook-cell:/home/zliu/devel/ial-compsci-work/ipynb/bubble_sort.ipynb#W0sZmlsZQ%3D%3D?line=13'>14</a>\u001b[0m     \u001b[39mwhile\u001b[39;00m index \u001b[39m<\u001b[39m \u001b[39mlen\u001b[39m(arr) \u001b[39m-\u001b[39m \u001b[39m1\u001b[39m:\n",
      "\u001b[0;31mKeyboardInterrupt\u001b[0m: "
     ]
    }
   ],
   "source": [
    "import random\n",
    "def generate_test_seq(length: int):\n",
    "    arr = []\n",
    "    for i in range(length):\n",
    "        arr.append(random.randint(0, 100))\n",
    "    return arr\n",
    "arr = generate_test_seq(10)\n",
    "print(arr)\n",
    "count = 0\n",
    "index = 0\n",
    "    while index < len(arr) - 1:\n",
    "        print(index ,\"+\", count)\n",
    "        if arr[index] > arr[index+1]:\n",
    "            swp = arr[index]\n",
    "            arr[index] = arr[index+1]\n",
    "            arr[index+1] = swp\n",
    "        else:\n",
    "            count += 1\n",
    "        index += 1\n",
    "print(arr)"
   ]
  }
 ],
 "metadata": {
  "kernelspec": {
   "display_name": "Python 3",
   "language": "python",
   "name": "python3"
  },
  "language_info": {
   "codemirror_mode": {
    "name": "ipython",
    "version": 3
   },
   "file_extension": ".py",
   "mimetype": "text/x-python",
   "name": "python",
   "nbconvert_exporter": "python",
   "pygments_lexer": "ipython3",
   "version": "3.11.6"
  }
 },
 "nbformat": 4,
 "nbformat_minor": 2
}
